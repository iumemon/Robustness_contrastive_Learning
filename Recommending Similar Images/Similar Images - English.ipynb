{
 "cells": [
  {
   "cell_type": "markdown",
   "metadata": {},
   "source": [
    "This notebook represents a prototypical python 3 implementation for a without safeguards, without asserts, with fixed paramterized model. For larger data sets it is advised to store intermediate results, e.g. as pickle files.\n",
    "\n",
    "Theory https://towardsdatascience.com/effortlessly-recommending-similar-images-b65aff6aabfb\n",
    "\n",
    "\n",
    "\n",
    "# Rescaling\n",
    "\n",
    "We assume to have a folder \"originalImages\" in the working directory. It shall contain jpg images.\n",
    "As we will employ resnet18 using PyTorch, we need to resize the images to normalized 224x224 images\n",
    "In a first step they are resized and stored in a different folder inputImagesCNN"
   ]
  },
  {
   "cell_type": "code",
   "execution_count": 2,
   "metadata": {},
   "outputs": [],
   "source": [
    "import os\n",
    "from PIL import Image\n",
    "from torchvision import transforms\n",
    "\n",
    "# needed input dimensions for the CNN\n",
    "inputDim = (224,228)\n",
    "inputDir = \"train\"\n",
    "inputDirCNN = \"inputImages\"\n",
    "\n",
    "os.makedirs(inputDirCNN, exist_ok = True)\n",
    "\n",
    "transformationForCNNInput = transforms.Compose([transforms.Resize(inputDim)])\n",
    "\n",
    "# for imageName in os.listdir(inputDir):\n",
    "#     I = Image.open(os.path.join(inputDir, imageName))\n",
    "#     newI = transformationForCNNInput(I)\n",
    "\n",
    "#     # copy the rotation information metadata from original image and save, else your transformed images may be rotated\n",
    "#     #exif = I.info['exif']\n",
    "#     newI.save(os.path.join(inputDirCNN, imageName))\n",
    "    \n",
    "#     newI.close()\n",
    "#     I.close()"
   ]
  },
  {
   "cell_type": "markdown",
   "metadata": {},
   "source": [
    "# Creating the similarity matrix with Resnet18\n",
    "\n",
    "Let us first calculate the feature vectors with resnet18 on a CPU. The input is normalized to the ImageNet mean values/standard deviation."
   ]
  },
  {
   "cell_type": "code",
   "execution_count": 3,
   "metadata": {},
   "outputs": [
    {
     "name": "stdout",
     "output_type": "stream",
     "text": [
      "Converting images to feature vectors:\n"
     ]
    },
    {
     "name": "stderr",
     "output_type": "stream",
     "text": [
      "100%|██████████| 13339/13339 [01:33<00:00, 143.32it/s]\n"
     ]
    }
   ],
   "source": [
    "import torch\n",
    "from tqdm import tqdm\n",
    "import os\n",
    "from torchvision import models\n",
    "import torch.nn as nn\n",
    "from collections import OrderedDict\n",
    "\n",
    "# for this prototype we use no gpu, cuda= False and as model resnet18 to obtain feature vectors\n",
    "\n",
    "class Img2VecResnet18():\n",
    "    def __init__(self):\n",
    "        \n",
    "        self.device = torch.device(\"cuda\")\n",
    "        self.numberFeatures = 512\n",
    "        self.modelName = \"resnet-18\"\n",
    "        self.model, self.featureLayer = self.getFeatureLayer()\n",
    "        self.model = self.model.to(self.device)\n",
    "        self.model.eval()\n",
    "        self.toTensor = transforms.ToTensor()\n",
    "        \n",
    "        # normalize the resized images as expected by resnet18\n",
    "        # [0.485, 0.456, 0.406] --> normalized mean value of ImageNet, [0.229, 0.224, 0.225] std of ImageNet\n",
    "        self.normalize = transforms.Normalize(mean=[0.485, 0.456, 0.406], std=[0.229, 0.224, 0.225])\n",
    "        \n",
    "    def getVec(self, img):\n",
    "        image = self.normalize(self.toTensor(img)).unsqueeze(0).to(self.device)\n",
    "        embedding = torch.zeros(1, self.numberFeatures, 1, 1)\n",
    "\n",
    "        def copyData(m, i, o): embedding.copy_(o.data)\n",
    "\n",
    "        h = self.featureLayer.register_forward_hook(copyData)\n",
    "        self.model(image)\n",
    "        h.remove()\n",
    "\n",
    "        return embedding.numpy()[0, :, 0, 0]\n",
    "\n",
    "    def getFeatureLayer(self):\n",
    "        resnet = models.resnet18(pretrained=False)\n",
    "\n",
    "        head = nn.Sequential(OrderedDict([\n",
    "            ('fc1', nn.Linear(resnet.fc.in_features, 1024)),\n",
    "            ('added_relu1', nn.ReLU(inplace=True)),\n",
    "            ('fc2', nn.Linear(1024, 512)),\n",
    "            ('added_relu2', nn.ReLU(inplace=True)),\n",
    "            ('fc3', nn.Linear(512, 100))\n",
    "        ]))\n",
    "        resnet.fc = head\n",
    "\n",
    "    \n",
    "        cnnModel = resnet\n",
    "        path = os.path.join(\"results\", \"model_triplet.pth\")\n",
    "        checkpoint = torch.load(path)\n",
    "        cnnModel.load_state_dict(checkpoint['model_state_dict'])\n",
    "                \n",
    "        layer = cnnModel._modules.get('avgpool')\n",
    "        self.layer_output_size = 100\n",
    "        \n",
    "        return cnnModel, layer\n",
    "        \n",
    "\n",
    "# generate vectors for all the images in the set\n",
    "img2vec = Img2VecResnet18() \n",
    "\n",
    "allVectors = {}\n",
    "print(\"Converting images to feature vectors:\")\n",
    "for image in tqdm(os.listdir(inputDir)):\n",
    "    I = Image.open(os.path.join(inputDir, image))\n",
    "    vec = img2vec.getVec(I)\n",
    "    allVectors[image] = vec\n",
    "    I.close() "
   ]
  },
  {
   "cell_type": "markdown",
   "metadata": {},
   "source": [
    "# Cosine similarity\n",
    "Calculate for all vectors the cosine similarity to the other vectors.\n",
    "Note that this matrix may become huge, hence infefficient, with many thousands of images"
   ]
  },
  {
   "cell_type": "code",
   "execution_count": 4,
   "metadata": {},
   "outputs": [],
   "source": [
    "# now let us define a function that calculates the cosine similarity entries in the similarity matrix\n",
    "import pandas as pd\n",
    "import numpy as np\n",
    "def getSimilarityMatrix(vectors, index):\n",
    "    v = np.array(list(vectors.values())).T\n",
    "    sim = np.inner(v.T, v.T) / ((np.linalg.norm(v, axis=0).reshape(-1,1)) * ((np.linalg.norm(v, axis=0).reshape(-1,1)).T))\n",
    "    keys = list(vectors.keys())\n",
    "    if index == 1:\n",
    "        #print(keys)\n",
    "        index = -1\n",
    "    matrix = pd.DataFrame(sim, columns = keys, index = keys)\n",
    "    \n",
    "    return matrix\n",
    "     \n",
    "similarityMatrix = getSimilarityMatrix(allVectors, 1)"
   ]
  },
  {
   "cell_type": "markdown",
   "metadata": {},
   "source": [
    "# Prepare top-k lists\n",
    "Now that the similarity matrix is fully available, the last step is to sort the values per item and store the top similar entries in another data structure"
   ]
  },
  {
   "cell_type": "code",
   "execution_count": 5,
   "metadata": {},
   "outputs": [
    {
     "name": "stderr",
     "output_type": "stream",
     "text": [
      "100%|██████████| 13339/13339 [00:26<00:00, 494.96it/s]\n"
     ]
    }
   ],
   "source": [
    "from numpy.testing import assert_almost_equal\n",
    "import pickle\n",
    "\n",
    "k = 5 # the number of top similar images to be stored\n",
    "\n",
    "similarNames = pd.DataFrame(index = similarityMatrix.index, columns = range(k))\n",
    "similarValues = pd.DataFrame(index = similarityMatrix.index, columns = range(k))\n",
    "\n",
    "for j in tqdm(range(similarityMatrix.shape[0])):\n",
    "    kSimilar = similarityMatrix.iloc[j, :].sort_values(ascending = False).head(k)\n",
    "    similarNames.iloc[j, :] = list(kSimilar.index)\n",
    "    similarValues.iloc[j, :] = kSimilar.values\n",
    "    \n",
    "similarNames.to_pickle(\"similarNames.pkl\")\n",
    "similarValues.to_pickle(\"similarValues.pkl\")"
   ]
  },
  {
   "cell_type": "markdown",
   "metadata": {},
   "source": [
    "# Get and visualize similar images for four example inputs"
   ]
  },
  {
   "cell_type": "code",
   "execution_count": 7,
   "metadata": {
    "scrolled": false
   },
   "outputs": [
    {
     "data": {
      "image/png": "[encoded data removed]",
      "text/plain": [
       "<Figure size 720x1440 with 4 Axes>"
      ]
     },
     "metadata": {},
     "output_type": "display_data"
    },
    {
     "data": {
      "image/png": "[encoded data removed]",
      "text/plain": [
       "<Figure size 720x1440 with 4 Axes>"
      ]
     },
     "metadata": {},
     "output_type": "display_data"
    }
   ],
   "source": [
    "import matplotlib.pyplot as plt\n",
    "    \n",
    "# take three examples from the provided image set and plot\n",
    "#inputImages = [\"test_1.png\", \"test_2.png\", \"183_7.png\", \"450_13.png\"]\n",
    "inputImages = [\"183_7.png\", \"test_1.png\"]\n",
    "\n",
    "numCol = 4\n",
    "numRow = 1\n",
    "\n",
    "def setAxes(ax, image, query = False, **kwargs):\n",
    "    value = kwargs.get(\"value\", None)\n",
    "    if query:\n",
    "        ax.set_xlabel(\"Query Image Unseen\\n{0}\".format(image), fontsize = 10)\n",
    "    else:\n",
    "        ax.set_xlabel(\"Similarity {1:1.3f}\\n{0}\".format( image,  value), fontsize = 12)\n",
    "    ax.set_xticks([])\n",
    "    ax.set_yticks([])\n",
    "    \n",
    "def getSimilarImages(image, simNames, simVals):\n",
    "    if image in set(simNames.index):\n",
    "        imgs = list(simNames.loc[image, :])\n",
    "        vals = list(simVals.loc[image, :])\n",
    "        if image in imgs:\n",
    "            assert_almost_equal(max(vals), 1, decimal = 5)\n",
    "            imgs.remove(image)\n",
    "            vals.remove(max(vals))\n",
    "        return imgs, vals\n",
    "    else:\n",
    "        print(\"'{}' Unknown image\".format(image))\n",
    "        \n",
    "def plotSimilarImages(image, simiarNames, similarValues):\n",
    "    simImages, simValues = getSimilarImages(image, similarNames, similarValues)\n",
    "    fig = plt.figure(figsize=(10, 20))\n",
    "    \n",
    "    # now plot the  most simliar images\n",
    "    for j in range(0, numCol*numRow):\n",
    "        ax = []\n",
    "        if j == 0:\n",
    "            img = Image.open(os.path.join(inputDir, image))\n",
    "            ax = fig.add_subplot(numRow, numCol, 1)\n",
    "            setAxes(ax, image, query = True)\n",
    "        else:\n",
    "            img = Image.open(os.path.join(inputDir, simImages[j-1]))\n",
    "            ax.append(fig.add_subplot(numRow, numCol, j+1))\n",
    "            setAxes(ax[-1], simImages[j-1], value = simValues[j-1])\n",
    "        img = img.convert('RGB')\n",
    "        plt.imshow(img)\n",
    "        img.close()\n",
    "    \n",
    "    plt.show()\n",
    "        \n",
    "for image in inputImages:\n",
    "    plotSimilarImages(image, similarNames, similarValues)"
   ]
  },
  {
   "cell_type": "code",
   "execution_count": null,
   "metadata": {},
   "outputs": [],
   "source": []
  },
  {
   "cell_type": "code",
   "execution_count": null,
   "metadata": {},
   "outputs": [],
   "source": []
  }
 ],
 "metadata": {
  "kernelspec": {
   "display_name": "Python 3",
   "language": "python",
   "name": "python3"
  },
  "language_info": {
   "codemirror_mode": {
    "name": "ipython",
    "version": 3
   },
   "file_extension": ".py",
   "mimetype": "text/x-python",
   "name": "python",
   "nbconvert_exporter": "python",
   "pygments_lexer": "ipython3",
   "version": "3.8.8"
  }
 },
 "nbformat": 4,
 "nbformat_minor": 2
}
